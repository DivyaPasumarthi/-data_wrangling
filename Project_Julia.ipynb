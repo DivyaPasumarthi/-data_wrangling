{
 "cells": [
  {
   "cell_type": "code",
   "execution_count": 46,
   "metadata": {},
   "outputs": [],
   "source": [
    "# Including packages and using the packages required\n",
    "using Pkg\n",
    "Pkg.update()"
   ]
  },
  {
   "cell_type": "code",
   "execution_count": 47,
   "metadata": {
    "collapsed": true,
    "jupyter": {
     "outputs_hidden": true
    }
   },
   "outputs": [
    {
     "name": "stdout",
     "output_type": "stream",
     "text": [
      "\u001b[32m\u001b[1m Resolving\u001b[22m\u001b[39m package versions...\n",
      "\u001b[32m\u001b[1m  Updating\u001b[22m\u001b[39m `C:\\Users\\Divya\\.julia\\environments\\v1.1\\Project.toml`\n",
      "\u001b[90m [no changes]\u001b[39m\n",
      "\u001b[32m\u001b[1m  Updating\u001b[22m\u001b[39m `C:\\Users\\Divya\\.julia\\environments\\v1.1\\Manifest.toml`\n",
      "\u001b[90m [no changes]\u001b[39m\n",
      "\u001b[32m\u001b[1m Resolving\u001b[22m\u001b[39m package versions...\n",
      "\u001b[32m\u001b[1m  Updating\u001b[22m\u001b[39m `C:\\Users\\Divya\\.julia\\environments\\v1.1\\Project.toml`\n",
      "\u001b[90m [no changes]\u001b[39m\n",
      "\u001b[32m\u001b[1m  Updating\u001b[22m\u001b[39m `C:\\Users\\Divya\\.julia\\environments\\v1.1\\Manifest.toml`\n",
      "\u001b[90m [no changes]\u001b[39m\n",
      "\u001b[32m\u001b[1m Resolving\u001b[22m\u001b[39m package versions...\n",
      "\u001b[32m\u001b[1m  Updating\u001b[22m\u001b[39m `C:\\Users\\Divya\\.julia\\environments\\v1.1\\Project.toml`\n",
      "\u001b[90m [no changes]\u001b[39m\n",
      "\u001b[32m\u001b[1m  Updating\u001b[22m\u001b[39m `C:\\Users\\Divya\\.julia\\environments\\v1.1\\Manifest.toml`\n",
      "\u001b[90m [no changes]\u001b[39m\n",
      "\u001b[32m\u001b[1m Resolving\u001b[22m\u001b[39m package versions...\n",
      "\u001b[32m\u001b[1m  Updating\u001b[22m\u001b[39m `C:\\Users\\Divya\\.julia\\environments\\v1.1\\Project.toml`\n",
      "\u001b[90m [no changes]\u001b[39m\n",
      "\u001b[32m\u001b[1m  Updating\u001b[22m\u001b[39m `C:\\Users\\Divya\\.julia\\environments\\v1.1\\Manifest.toml`\n",
      "\u001b[90m [no changes]\u001b[39m\n",
      "\u001b[32m\u001b[1m Resolving\u001b[22m\u001b[39m package versions...\n",
      "\u001b[32m\u001b[1m  Updating\u001b[22m\u001b[39m `C:\\Users\\Divya\\.julia\\environments\\v1.1\\Project.toml`\n",
      "\u001b[90m [no changes]\u001b[39m\n",
      "\u001b[32m\u001b[1m  Updating\u001b[22m\u001b[39m `C:\\Users\\Divya\\.julia\\environments\\v1.1\\Manifest.toml`\n",
      "\u001b[90m [no changes]\u001b[39m\n",
      "\u001b[32m\u001b[1m Resolving\u001b[22m\u001b[39m package versions...\n",
      "\u001b[32m\u001b[1m  Updating\u001b[22m\u001b[39m `C:\\Users\\Divya\\.julia\\environments\\v1.1\\Project.toml`\n",
      "\u001b[90m [no changes]\u001b[39m\n",
      "\u001b[32m\u001b[1m  Updating\u001b[22m\u001b[39m `C:\\Users\\Divya\\.julia\\environments\\v1.1\\Manifest.toml`\n",
      "\u001b[90m [no changes]\u001b[39m\n",
      "\u001b[32m\u001b[1m Resolving\u001b[22m\u001b[39m package versions...\n",
      "\u001b[32m\u001b[1m  Updating\u001b[22m\u001b[39m `C:\\Users\\Divya\\.julia\\environments\\v1.1\\Project.toml`\n",
      "\u001b[90m [no changes]\u001b[39m\n",
      "\u001b[32m\u001b[1m  Updating\u001b[22m\u001b[39m `C:\\Users\\Divya\\.julia\\environments\\v1.1\\Manifest.toml`\n",
      "\u001b[90m [no changes]\u001b[39m\n"
     ]
    }
   ],
   "source": [
    "Pkg.add(\"Queryverse\")\n",
    "Pkg.add(\"VegaDatasets\")\n",
    "Pkg.add(\"IndexedTables\")\n",
    "Pkg.add(\"DataFramesMeta\")\n",
    "Pkg.add(\"DataFrames\")\n",
    "Pkg.add(\"FileIO\")\n",
    "Pkg.add(\"CSV\")\n",
    "using DataFrames,CSV  # Using Libraries for dataframes and CSV in Julia"
   ]
  },
  {
   "cell_type": "code",
   "execution_count": 48,
   "metadata": {
    "collapsed": true,
    "jupyter": {
     "outputs_hidden": true
    }
   },
   "outputs": [
    {
     "data": {
      "text/html": [
       "<table class=\"data-frame\"><thead><tr><th></th><th>Year</th><th>Avg_temperature</th></tr><tr><th></th><th>Int64</th><th>Float64</th></tr></thead><tbody><p>110 rows × 2 columns</p><tr><th>1</th><td>1909</td><td>12.39</td></tr><tr><th>2</th><td>1910</td><td>12.46</td></tr><tr><th>3</th><td>1911</td><td>11.95</td></tr><tr><th>4</th><td>1912</td><td>11.33</td></tr><tr><th>5</th><td>1913</td><td>11.57</td></tr><tr><th>6</th><td>1914</td><td>11.58</td></tr><tr><th>7</th><td>1915</td><td>11.94</td></tr><tr><th>8</th><td>1916</td><td>12.99</td></tr><tr><th>9</th><td>1917</td><td>12.8</td></tr><tr><th>10</th><td>1918</td><td>11.81</td></tr><tr><th>11</th><td>1919</td><td>11.39</td></tr><tr><th>12</th><td>1920</td><td>11.54</td></tr><tr><th>13</th><td>1921</td><td>11.86</td></tr><tr><th>14</th><td>1922</td><td>12.01</td></tr><tr><th>15</th><td>1923</td><td>11.85</td></tr><tr><th>16</th><td>1924</td><td>12.81</td></tr><tr><th>17</th><td>1925</td><td>11.59</td></tr><tr><th>18</th><td>1926</td><td>11.78</td></tr><tr><th>19</th><td>1927</td><td>11.62</td></tr><tr><th>20</th><td>1928</td><td>12.7</td></tr><tr><th>21</th><td>1929</td><td>11.95</td></tr><tr><th>22</th><td>1930</td><td>11.25</td></tr><tr><th>23</th><td>1931</td><td>11.45</td></tr><tr><th>24</th><td>1932</td><td>11.6</td></tr><tr><th>25</th><td>1933</td><td>12.06</td></tr><tr><th>26</th><td>1934</td><td>12.27</td></tr><tr><th>27</th><td>1935</td><td>12.47</td></tr><tr><th>28</th><td>1936</td><td>11.88</td></tr><tr><th>29</th><td>1937</td><td>11.67</td></tr><tr><th>30</th><td>1938</td><td>12.85</td></tr><tr><th>&vellip;</th><td>&vellip;</td><td>&vellip;</td></tr></tbody></table>"
      ],
      "text/latex": [
       "\\begin{tabular}{r|cc}\n",
       "\t& Year & Avg\\_temperature\\\\\n",
       "\t\\hline\n",
       "\t& Int64 & Float64\\\\\n",
       "\t\\hline\n",
       "\t1 & 1909 & 12.39 \\\\\n",
       "\t2 & 1910 & 12.46 \\\\\n",
       "\t3 & 1911 & 11.95 \\\\\n",
       "\t4 & 1912 & 11.33 \\\\\n",
       "\t5 & 1913 & 11.57 \\\\\n",
       "\t6 & 1914 & 11.58 \\\\\n",
       "\t7 & 1915 & 11.94 \\\\\n",
       "\t8 & 1916 & 12.99 \\\\\n",
       "\t9 & 1917 & 12.8 \\\\\n",
       "\t10 & 1918 & 11.81 \\\\\n",
       "\t11 & 1919 & 11.39 \\\\\n",
       "\t12 & 1920 & 11.54 \\\\\n",
       "\t13 & 1921 & 11.86 \\\\\n",
       "\t14 & 1922 & 12.01 \\\\\n",
       "\t15 & 1923 & 11.85 \\\\\n",
       "\t16 & 1924 & 12.81 \\\\\n",
       "\t17 & 1925 & 11.59 \\\\\n",
       "\t18 & 1926 & 11.78 \\\\\n",
       "\t19 & 1927 & 11.62 \\\\\n",
       "\t20 & 1928 & 12.7 \\\\\n",
       "\t21 & 1929 & 11.95 \\\\\n",
       "\t22 & 1930 & 11.25 \\\\\n",
       "\t23 & 1931 & 11.45 \\\\\n",
       "\t24 & 1932 & 11.6 \\\\\n",
       "\t25 & 1933 & 12.06 \\\\\n",
       "\t26 & 1934 & 12.27 \\\\\n",
       "\t27 & 1935 & 12.47 \\\\\n",
       "\t28 & 1936 & 11.88 \\\\\n",
       "\t29 & 1937 & 11.67 \\\\\n",
       "\t30 & 1938 & 12.85 \\\\\n",
       "\t$\\dots$ & $\\dots$ & $\\dots$ \\\\\n",
       "\\end{tabular}\n"
      ],
      "text/plain": [
       "110×2 DataFrame\n",
       "│ Row │ Year  │ Avg_temperature │\n",
       "│     │ \u001b[90mInt64\u001b[39m │ \u001b[90mFloat64\u001b[39m         │\n",
       "├─────┼───────┼─────────────────┤\n",
       "│ 1   │ 1909  │ 12.39           │\n",
       "│ 2   │ 1910  │ 12.46           │\n",
       "│ 3   │ 1911  │ 11.95           │\n",
       "│ 4   │ 1912  │ 11.33           │\n",
       "│ 5   │ 1913  │ 11.57           │\n",
       "│ 6   │ 1914  │ 11.58           │\n",
       "│ 7   │ 1915  │ 11.94           │\n",
       "│ 8   │ 1916  │ 12.99           │\n",
       "│ 9   │ 1917  │ 12.8            │\n",
       "│ 10  │ 1918  │ 11.81           │\n",
       "⋮\n",
       "│ 100 │ 2008  │ 12.86           │\n",
       "│ 101 │ 2009  │ 12.29           │\n",
       "│ 102 │ 2010  │ 13.07           │\n",
       "│ 103 │ 2011  │ 12.83           │\n",
       "│ 104 │ 2012  │ 12.45           │\n",
       "│ 105 │ 2013  │ 13.33           │\n",
       "│ 106 │ 2014  │ 12.79           │\n",
       "│ 107 │ 2015  │ 12.75           │\n",
       "│ 108 │ 2016  │ 13.44           │\n",
       "│ 109 │ 2017  │ 13.15           │\n",
       "│ 110 │ 2018  │ 13.41           │"
      ]
     },
     "execution_count": 48,
     "metadata": {},
     "output_type": "execute_result"
    }
   ],
   "source": [
    "# Read CSV files and store the data into the variables as shown below\n",
    "\n",
    "Crime = CSV.read(\"Crime.csv\")\n",
    "Education = CSV.read(\"Education.csv\")\n",
    "Unemployment_rate = CSV.read(\"unemployment_rate.csv\")\n",
    "AlcoholConsumption = CSV.read(\"AlcoholYearlyData.csv\")\n",
    "Temperature = CSV.read(\"Temperature.csv\")"
   ]
  },
  {
   "cell_type": "code",
   "execution_count": 49,
   "metadata": {
    "collapsed": true,
    "jupyter": {
     "outputs_hidden": true
    }
   },
   "outputs": [
    {
     "data": {
      "text/html": [
       "<table class=\"data-frame\"><thead><tr><th></th><th>Year</th><th>Total.Offences</th><th>TotalEnrolment</th><th>UnemploymentRate</th><th>Yearly_alcohol_consumption</th></tr><tr><th></th><th>Int64</th><th>Int64</th><th>Int64</th><th>Float64</th><th>Float64</th></tr></thead><tbody><p>8 rows × 6 columns (omitted printing of 1 columns)</p><tr><th>1</th><td>2007</td><td>426384</td><td>896200</td><td>3.46667</td><td>19.6091</td></tr><tr><th>2</th><td>2008</td><td>431383</td><td>852215</td><td>4.0</td><td>20.005</td></tr><tr><th>3</th><td>2009</td><td>451405</td><td>865605</td><td>5.825</td><td>19.752</td></tr><tr><th>4</th><td>2010</td><td>426345</td><td>860650</td><td>6.15</td><td>19.9381</td></tr><tr><th>5</th><td>2011</td><td>406056</td><td>791580</td><td>5.975</td><td>20.029</td></tr><tr><th>6</th><td>2012</td><td>376013</td><td>778120</td><td>6.375</td><td>19.3703</td></tr><tr><th>7</th><td>2013</td><td>360411</td><td>765270</td><td>5.75</td><td>19.7099</td></tr><tr><th>8</th><td>2014</td><td>350389</td><td>764520</td><td>5.4</td><td>19.2922</td></tr></tbody></table>"
      ],
      "text/latex": [
       "\\begin{tabular}{r|cccccc}\n",
       "\t& Year & Total.Offences & TotalEnrolment & UnemploymentRate & Yearly\\_alcohol\\_consumption & \\\\\n",
       "\t\\hline\n",
       "\t& Int64 & Int64 & Int64 & Float64 & Float64 & \\\\\n",
       "\t\\hline\n",
       "\t1 & 2007 & 426384 & 896200 & 3.46667 & 19.6091 & $\\dots$ \\\\\n",
       "\t2 & 2008 & 431383 & 852215 & 4.0 & 20.005 & $\\dots$ \\\\\n",
       "\t3 & 2009 & 451405 & 865605 & 5.825 & 19.752 & $\\dots$ \\\\\n",
       "\t4 & 2010 & 426345 & 860650 & 6.15 & 19.9381 & $\\dots$ \\\\\n",
       "\t5 & 2011 & 406056 & 791580 & 5.975 & 20.029 & $\\dots$ \\\\\n",
       "\t6 & 2012 & 376013 & 778120 & 6.375 & 19.3703 & $\\dots$ \\\\\n",
       "\t7 & 2013 & 360411 & 765270 & 5.75 & 19.7099 & $\\dots$ \\\\\n",
       "\t8 & 2014 & 350389 & 764520 & 5.4 & 19.2922 & $\\dots$ \\\\\n",
       "\\end{tabular}\n"
      ],
      "text/plain": [
       "8×6 DataFrame. Omitted printing of 2 columns\n",
       "│ Row │ Year  │ Total.Offences │ TotalEnrolment │ UnemploymentRate │\n",
       "│     │ \u001b[90mInt64\u001b[39m │ \u001b[90mInt64\u001b[39m          │ \u001b[90mInt64\u001b[39m          │ \u001b[90mFloat64\u001b[39m          │\n",
       "├─────┼───────┼────────────────┼────────────────┼──────────────────┤\n",
       "│ 1   │ 2007  │ 426384         │ 896200         │ 3.46667          │\n",
       "│ 2   │ 2008  │ 431383         │ 852215         │ 4.0              │\n",
       "│ 3   │ 2009  │ 451405         │ 865605         │ 5.825            │\n",
       "│ 4   │ 2010  │ 426345         │ 860650         │ 6.15             │\n",
       "│ 5   │ 2011  │ 406056         │ 791580         │ 5.975            │\n",
       "│ 6   │ 2012  │ 376013         │ 778120         │ 6.375            │\n",
       "│ 7   │ 2013  │ 360411         │ 765270         │ 5.75             │\n",
       "│ 8   │ 2014  │ 350389         │ 764520         │ 5.4              │"
      ]
     },
     "execution_count": 49,
     "metadata": {},
     "output_type": "execute_result"
    }
   ],
   "source": [
    "# Merge these dataframes using inner join based on Year since that is the common column in each dataset\n",
    "\n",
    "EducationUnemployment = join(Education,Unemployment_rate, kind = :inner, on = :Year,makeunique = true)\n",
    "AlcoholTemperature = join(AlcoholConsumption, Temperature, kind = :inner, on = :Year,makeunique = true)\n",
    "AllFactors = join(EducationUnemployment, AlcoholTemperature, kind = :inner, on = :Year,makeunique = true)\n",
    "Crime_AllFactors = join(Crime, AllFactors, kind = :inner, on = :Year,makeunique = true)"
   ]
  },
  {
   "cell_type": "code",
   "execution_count": 50,
   "metadata": {},
   "outputs": [
    {
     "data": {
      "text/plain": [
       "\"MergedData.csv\""
      ]
     },
     "execution_count": 50,
     "metadata": {},
     "output_type": "execute_result"
    }
   ],
   "source": [
    "# Writing this merged dataframe into csv file for further data operations using R language\n",
    "\n",
    "CSV.write(\"MergedData.csv\",  Crime_AllFactors, writeheader=true)"
   ]
  }
 ],
 "metadata": {
  "kernelspec": {
   "display_name": "Julia 1.1.1",
   "language": "julia",
   "name": "julia-1.1"
  },
  "language_info": {
   "file_extension": ".jl",
   "mimetype": "application/julia",
   "name": "julia",
   "version": "1.1.1"
  }
 },
 "nbformat": 4,
 "nbformat_minor": 4
}
